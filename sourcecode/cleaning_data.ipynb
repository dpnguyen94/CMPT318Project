{
 "cells": [
  {
   "cell_type": "code",
   "execution_count": 1,
   "metadata": {
    "collapsed": false
   },
   "outputs": [],
   "source": [
    "import glob\n",
    "import numpy as np\n",
    "import pandas as pd\n",
    "\n",
    "weather_path = 'yvr-weather'\n",
    "\n",
    "weather_files = glob.glob(weather_path + '/*.csv')\n",
    "\n",
    "weather = []\n",
    "for file in weather_files:\n",
    "    df = pd.read_csv(file, skiprows=16)\n",
    "    weather.append(df)\n",
    "\n",
    "weather = pd.concat(weather).reset_index()"
   ]
  },
  {
   "cell_type": "code",
   "execution_count": 2,
   "metadata": {
    "collapsed": false
   },
   "outputs": [],
   "source": [
    "weather = weather[['Date/Time', 'Weather']]\n",
    "weather = weather[weather['Weather'].notnull()].reset_index()\n",
    "weather['datetime'] = pd.to_datetime(weather['Date/Time'])"
   ]
  },
  {
   "cell_type": "code",
   "execution_count": 3,
   "metadata": {
    "collapsed": false
   },
   "outputs": [],
   "source": [
    "katkam_path = 'katkam-rescaled'\n",
    "katkam_files = glob.glob(katkam_path + '/*.jpg')"
   ]
  },
  {
   "cell_type": "code",
   "execution_count": 4,
   "metadata": {
    "collapsed": false
   },
   "outputs": [],
   "source": [
    "katkam_df = pd.DataFrame(katkam_files)\n",
    "katkam_df.columns = ['filename']"
   ]
  },
  {
   "cell_type": "code",
   "execution_count": 5,
   "metadata": {
    "collapsed": false
   },
   "outputs": [],
   "source": [
    "katkam_df = pd.DataFrame(katkam_df['filename'].str.extract('-(\\d{14})\\.jpg', expand=False))"
   ]
  },
  {
   "cell_type": "code",
   "execution_count": 6,
   "metadata": {
    "collapsed": false
   },
   "outputs": [],
   "source": [
    "katkam_df.columns = ['datetime']"
   ]
  },
  {
   "cell_type": "code",
   "execution_count": 7,
   "metadata": {
    "collapsed": true
   },
   "outputs": [],
   "source": [
    "katkam_df['datetime'] = pd.to_datetime(katkam_df['datetime'])"
   ]
  },
  {
   "cell_type": "code",
   "execution_count": 8,
   "metadata": {
    "collapsed": false
   },
   "outputs": [],
   "source": [
    "weather = weather[['Weather', 'datetime']]"
   ]
  },
  {
   "cell_type": "code",
   "execution_count": 9,
   "metadata": {
    "collapsed": true
   },
   "outputs": [],
   "source": [
    "weather.columns = [['weather', 'datetime']]"
   ]
  },
  {
   "cell_type": "code",
   "execution_count": 10,
   "metadata": {
    "collapsed": true
   },
   "outputs": [],
   "source": [
    "merged = weather.merge(katkam_df, on='datetime')"
   ]
  },
  {
   "cell_type": "code",
   "execution_count": 12,
   "metadata": {
    "collapsed": false
   },
   "outputs": [
    {
     "data": {
      "text/plain": [
       "array(['Rain', 'Cloudy', 'Rain Showers', 'Mostly Cloudy', 'Rain,Fog',\n",
       "       'Mainly Clear', 'Clear', 'Moderate Rain,Fog',\n",
       "       'Moderate Rain Showers', 'Moderate Rain Showers,Fog', 'Drizzle',\n",
       "       'Rain,Drizzle', 'Snow', 'Moderate Snow', 'Rain,Snow',\n",
       "       'Snow Showers', 'Heavy Rain,Fog', 'Drizzle,Fog', 'Moderate Rain',\n",
       "       'Rain Showers,Fog', 'Rain,Drizzle,Fog', 'Fog', 'Snow,Fog',\n",
       "       'Freezing Fog', 'Rain,Snow,Fog', 'Thunderstorms',\n",
       "       'Rain Showers,Snow Showers,Fog', 'Rain Showers,Snow Pellets',\n",
       "       'Rain Showers,Snow Showers', 'Moderate Rain,Drizzle', 'Heavy Rain'], dtype=object)"
      ]
     },
     "execution_count": 12,
     "metadata": {},
     "output_type": "execute_result"
    }
   ],
   "source": [
    "merged['weather'].unique()"
   ]
  },
  {
   "cell_type": "code",
   "execution_count": 15,
   "metadata": {
    "collapsed": false
   },
   "outputs": [
    {
     "data": {
      "text/html": [
       "<div>\n",
       "<table border=\"1\" class=\"dataframe\">\n",
       "  <thead>\n",
       "    <tr style=\"text-align: right;\">\n",
       "      <th></th>\n",
       "      <th>datetime</th>\n",
       "    </tr>\n",
       "    <tr>\n",
       "      <th>weather</th>\n",
       "      <th></th>\n",
       "    </tr>\n",
       "  </thead>\n",
       "  <tbody>\n",
       "    <tr>\n",
       "      <th>Clear</th>\n",
       "      <td>131</td>\n",
       "    </tr>\n",
       "    <tr>\n",
       "      <th>Cloudy</th>\n",
       "      <td>470</td>\n",
       "    </tr>\n",
       "    <tr>\n",
       "      <th>Drizzle</th>\n",
       "      <td>16</td>\n",
       "    </tr>\n",
       "    <tr>\n",
       "      <th>Drizzle,Fog</th>\n",
       "      <td>8</td>\n",
       "    </tr>\n",
       "    <tr>\n",
       "      <th>Fog</th>\n",
       "      <td>12</td>\n",
       "    </tr>\n",
       "    <tr>\n",
       "      <th>Freezing Fog</th>\n",
       "      <td>2</td>\n",
       "    </tr>\n",
       "    <tr>\n",
       "      <th>Heavy Rain</th>\n",
       "      <td>1</td>\n",
       "    </tr>\n",
       "    <tr>\n",
       "      <th>Heavy Rain,Fog</th>\n",
       "      <td>2</td>\n",
       "    </tr>\n",
       "    <tr>\n",
       "      <th>Mainly Clear</th>\n",
       "      <td>344</td>\n",
       "    </tr>\n",
       "    <tr>\n",
       "      <th>Moderate Rain</th>\n",
       "      <td>18</td>\n",
       "    </tr>\n",
       "    <tr>\n",
       "      <th>Moderate Rain Showers</th>\n",
       "      <td>2</td>\n",
       "    </tr>\n",
       "    <tr>\n",
       "      <th>Moderate Rain Showers,Fog</th>\n",
       "      <td>2</td>\n",
       "    </tr>\n",
       "    <tr>\n",
       "      <th>Moderate Rain,Drizzle</th>\n",
       "      <td>2</td>\n",
       "    </tr>\n",
       "    <tr>\n",
       "      <th>Moderate Rain,Fog</th>\n",
       "      <td>9</td>\n",
       "    </tr>\n",
       "    <tr>\n",
       "      <th>Moderate Snow</th>\n",
       "      <td>4</td>\n",
       "    </tr>\n",
       "    <tr>\n",
       "      <th>Mostly Cloudy</th>\n",
       "      <td>426</td>\n",
       "    </tr>\n",
       "    <tr>\n",
       "      <th>Rain</th>\n",
       "      <td>486</td>\n",
       "    </tr>\n",
       "    <tr>\n",
       "      <th>Rain Showers</th>\n",
       "      <td>143</td>\n",
       "    </tr>\n",
       "    <tr>\n",
       "      <th>Rain Showers,Fog</th>\n",
       "      <td>4</td>\n",
       "    </tr>\n",
       "    <tr>\n",
       "      <th>Rain Showers,Snow Pellets</th>\n",
       "      <td>1</td>\n",
       "    </tr>\n",
       "    <tr>\n",
       "      <th>Rain Showers,Snow Showers</th>\n",
       "      <td>1</td>\n",
       "    </tr>\n",
       "    <tr>\n",
       "      <th>Rain Showers,Snow Showers,Fog</th>\n",
       "      <td>1</td>\n",
       "    </tr>\n",
       "    <tr>\n",
       "      <th>Rain,Drizzle</th>\n",
       "      <td>4</td>\n",
       "    </tr>\n",
       "    <tr>\n",
       "      <th>Rain,Drizzle,Fog</th>\n",
       "      <td>4</td>\n",
       "    </tr>\n",
       "    <tr>\n",
       "      <th>Rain,Fog</th>\n",
       "      <td>69</td>\n",
       "    </tr>\n",
       "    <tr>\n",
       "      <th>Rain,Snow</th>\n",
       "      <td>7</td>\n",
       "    </tr>\n",
       "    <tr>\n",
       "      <th>Rain,Snow,Fog</th>\n",
       "      <td>1</td>\n",
       "    </tr>\n",
       "    <tr>\n",
       "      <th>Snow</th>\n",
       "      <td>61</td>\n",
       "    </tr>\n",
       "    <tr>\n",
       "      <th>Snow Showers</th>\n",
       "      <td>10</td>\n",
       "    </tr>\n",
       "    <tr>\n",
       "      <th>Snow,Fog</th>\n",
       "      <td>5</td>\n",
       "    </tr>\n",
       "    <tr>\n",
       "      <th>Thunderstorms</th>\n",
       "      <td>2</td>\n",
       "    </tr>\n",
       "  </tbody>\n",
       "</table>\n",
       "</div>"
      ],
      "text/plain": [
       "                               datetime\n",
       "weather                                \n",
       "Clear                               131\n",
       "Cloudy                              470\n",
       "Drizzle                              16\n",
       "Drizzle,Fog                           8\n",
       "Fog                                  12\n",
       "Freezing Fog                          2\n",
       "Heavy Rain                            1\n",
       "Heavy Rain,Fog                        2\n",
       "Mainly Clear                        344\n",
       "Moderate Rain                        18\n",
       "Moderate Rain Showers                 2\n",
       "Moderate Rain Showers,Fog             2\n",
       "Moderate Rain,Drizzle                 2\n",
       "Moderate Rain,Fog                     9\n",
       "Moderate Snow                         4\n",
       "Mostly Cloudy                       426\n",
       "Rain                                486\n",
       "Rain Showers                        143\n",
       "Rain Showers,Fog                      4\n",
       "Rain Showers,Snow Pellets             1\n",
       "Rain Showers,Snow Showers             1\n",
       "Rain Showers,Snow Showers,Fog         1\n",
       "Rain,Drizzle                          4\n",
       "Rain,Drizzle,Fog                      4\n",
       "Rain,Fog                             69\n",
       "Rain,Snow                             7\n",
       "Rain,Snow,Fog                         1\n",
       "Snow                                 61\n",
       "Snow Showers                         10\n",
       "Snow,Fog                              5\n",
       "Thunderstorms                         2"
      ]
     },
     "execution_count": 15,
     "metadata": {},
     "output_type": "execute_result"
    }
   ],
   "source": [
    "merged.groupby('weather').count()"
   ]
  },
  {
   "cell_type": "code",
   "execution_count": 19,
   "metadata": {
    "collapsed": false
   },
   "outputs": [],
   "source": [
    "merged['rain'] = merged['weather'].str.contains('Rain|Drizzle')"
   ]
  },
  {
   "cell_type": "code",
   "execution_count": 20,
   "metadata": {
    "collapsed": false
   },
   "outputs": [],
   "source": [
    "merged['snow'] = merged['weather'].str.contains('Snow')"
   ]
  },
  {
   "cell_type": "code",
   "execution_count": 21,
   "metadata": {
    "collapsed": false
   },
   "outputs": [],
   "source": [
    "merged['clear'] = merged['weather'].str.contains('Clear')\n",
    "merged['fog'] = merged['weather'].str.contains('Fog')\n",
    "merged['cloudy'] = merged['weather'].str.contains('Cloud')"
   ]
  },
  {
   "cell_type": "code",
   "execution_count": 25,
   "metadata": {
    "collapsed": false
   },
   "outputs": [],
   "source": [
    "merged = merged[merged['clear'] != merged['cloudy']]"
   ]
  },
  {
   "cell_type": "code",
   "execution_count": 27,
   "metadata": {
    "collapsed": false
   },
   "outputs": [],
   "source": [
    "merged[['datetime', 'rain', 'snow', 'clear', 'fog', 'cloudy']].to_csv('cleaned_data_v2.csv', index=False)"
   ]
  },
  {
   "cell_type": "code",
   "execution_count": null,
   "metadata": {
    "collapsed": true
   },
   "outputs": [],
   "source": []
  }
 ],
 "metadata": {
  "kernelspec": {
   "display_name": "Python 3",
   "language": "python",
   "name": "python3"
  },
  "language_info": {
   "codemirror_mode": {
    "name": "ipython",
    "version": 3
   },
   "file_extension": ".py",
   "mimetype": "text/x-python",
   "name": "python",
   "nbconvert_exporter": "python",
   "pygments_lexer": "ipython3",
   "version": "3.6.0"
  }
 },
 "nbformat": 4,
 "nbformat_minor": 2
}
